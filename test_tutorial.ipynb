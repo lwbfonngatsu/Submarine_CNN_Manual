{
 "cells": [
  {
   "cell_type": "markdown",
   "metadata": {
    "collapsed": true
   },
   "source": [
    "# Test CNN model tutorial.\n",
    "In this tutorial will use files and directories in my computer, so replace it with yours.\n",
    "## Import all the libraries we need."
   ]
  },
  {
   "cell_type": "code",
   "execution_count": 1,
   "metadata": {},
   "outputs": [
    {
     "name": "stderr",
     "output_type": "stream",
     "text": [
      "C:\\Users\\asus\\Anaconda3\\lib\\site-packages\\h5py\\__init__.py:36: FutureWarning: Conversion of the second argument of issubdtype from `float` to `np.floating` is deprecated. In future, it will be treated as `np.float64 == np.dtype(float).type`.\n",
      "  from ._conv import register_converters as _register_converters\n",
      "Using TensorFlow backend.\n"
     ]
    }
   ],
   "source": [
    "import sys\n",
    "sys.path.append(\"C:/Users/asus/AppData/Local/Programs/Python/Python36/Lib/site-packages\") # Fix for can't import package(s).\n",
    "\n",
    "import os\n",
    "import cv2\n",
    "from conv_ocr_v3 import cha_segment as segmentation\n",
    "from keras.models import Sequential\n",
    "from keras.layers import Dense\n",
    "from keras.applications import vgg16\n",
    "import numpy as np"
   ]
  },
  {
   "cell_type": "markdown",
   "metadata": {},
   "source": [
    "## Setup model architecture.\n",
    "Setup model architecture same as your trained weight you use.\n",
    "In this tutorial I'll use VGG16 based."
   ]
  },
  {
   "cell_type": "code",
   "execution_count": 2,
   "metadata": {},
   "outputs": [],
   "source": [
    "model = Sequential()\n",
    "vgg16_model = vgg16.VGG16()\n",
    "for layer in vgg16_model.layers[:-1]:\n",
    "    model.add(layer)\n",
    "\n",
    "model.add(Dense(13, activation=\"softmax\"))"
   ]
  },
  {
   "cell_type": "markdown",
   "metadata": {},
   "source": [
    "## Load your trained weight."
   ]
  },
  {
   "cell_type": "code",
   "execution_count": 3,
   "metadata": {},
   "outputs": [],
   "source": [
    "model.load_weights(\"thai_ocr_v1.hdf5\")"
   ]
  },
  {
   "cell_type": "markdown",
   "metadata": {},
   "source": [
    "## Main test statement.\n",
    "change test_image_path to your image path."
   ]
  },
  {
   "cell_type": "code",
   "execution_count": 4,
   "metadata": {},
   "outputs": [
    {
     "name": "stdout",
     "output_type": "stream",
     "text": [
      "[x] 32 initial bounding boxes\n",
      "[x] after applying non-maximum, 15 bounding boxes\n",
      "[x] 47 initial bounding boxes\n",
      "[x] after applying non-maximum, 23 bounding boxes\n",
      "[x] 48 initial bounding boxes\n",
      "[x] after applying non-maximum, 23 bounding boxes\n",
      "[x] 1 initial bounding boxes\n",
      "[x] after applying non-maximum, 1 bounding boxes\n",
      "[x] 1 initial bounding boxes\n",
      "[x] after applying non-maximum, 1 bounding boxes\n",
      "[x] 1 initial bounding boxes\n",
      "[x] after applying non-maximum, 1 bounding boxes\n",
      "[x] 2 initial bounding boxes\n",
      "[x] after applying non-maximum, 2 bounding boxes\n",
      "[x] 1 initial bounding boxes\n",
      "[x] after applying non-maximum, 1 bounding boxes\n",
      "[x] 1 initial bounding boxes\n",
      "[x] after applying non-maximum, 1 bounding boxes\n",
      "[x] 0 initial bounding boxes\n",
      "[x] after applying non-maximum, 0 bounding boxes\n",
      "[x] 1 initial bounding boxes\n",
      "[x] after applying non-maximum, 1 bounding boxes\n",
      "[x] 1 initial bounding boxes\n",
      "[x] after applying non-maximum, 1 bounding boxes\n",
      "[x] 1 initial bounding boxes\n",
      "[x] after applying non-maximum, 1 bounding boxes\n",
      "[x] 1 initial bounding boxes\n",
      "[x] after applying non-maximum, 1 bounding boxes\n",
      "9\n",
      "/\n",
      "0\n",
      "8\n",
      "0\n",
      "0\n",
      "0\n",
      "0\n",
      "-\n",
      "0\n",
      "1\n"
     ]
    },
    {
     "ename": "KeyboardInterrupt",
     "evalue": "",
     "output_type": "error",
     "traceback": [
      "\u001b[1;31m---------------------------------------------------------------------------\u001b[0m",
      "\u001b[1;31mKeyboardInterrupt\u001b[0m                         Traceback (most recent call last)",
      "\u001b[1;32m<ipython-input-4-87903cb5bfcf>\u001b[0m in \u001b[0;36m<module>\u001b[1;34m()\u001b[0m\n\u001b[0;32m     16\u001b[0m         \u001b[0mprint\u001b[0m\u001b[1;33m(\u001b[0m\u001b[0mcode\u001b[0m\u001b[1;33m[\u001b[0m\u001b[0mcls\u001b[0m\u001b[1;33m[\u001b[0m\u001b[1;36m0\u001b[0m\u001b[1;33m]\u001b[0m\u001b[1;33m]\u001b[0m\u001b[1;33m)\u001b[0m\u001b[1;33m\u001b[0m\u001b[0m\n\u001b[0;32m     17\u001b[0m         \u001b[0mcv2\u001b[0m\u001b[1;33m.\u001b[0m\u001b[0mimshow\u001b[0m\u001b[1;33m(\u001b[0m\u001b[1;34m\"Frame\"\u001b[0m\u001b[1;33m,\u001b[0m \u001b[0mresized\u001b[0m\u001b[1;33m)\u001b[0m\u001b[1;33m\u001b[0m\u001b[0m\n\u001b[1;32m---> 18\u001b[1;33m         \u001b[0mcv2\u001b[0m\u001b[1;33m.\u001b[0m\u001b[0mwaitKey\u001b[0m\u001b[1;33m(\u001b[0m\u001b[1;33m)\u001b[0m\u001b[1;33m\u001b[0m\u001b[0m\n\u001b[0m\u001b[0;32m     19\u001b[0m         \u001b[0mcv2\u001b[0m\u001b[1;33m.\u001b[0m\u001b[0mdestroyAllWindows\u001b[0m\u001b[1;33m(\u001b[0m\u001b[1;33m)\u001b[0m\u001b[1;33m\u001b[0m\u001b[0m\n\u001b[0;32m     20\u001b[0m     \u001b[0mimage_num\u001b[0m \u001b[1;33m+=\u001b[0m \u001b[1;36m1\u001b[0m\u001b[1;33m\u001b[0m\u001b[0m\n",
      "\u001b[1;31mKeyboardInterrupt\u001b[0m: "
     ]
    }
   ],
   "source": [
    "result_text = \"\"\n",
    "test_image_path = \"real_world_image/fei1.png\"\n",
    "image = cv2.imread(test_image_path)\n",
    "\n",
    "code = [\"0\", \"1\", \"2\", \"3\", \"4\", \"5\", \"6\", \"7\", \"8\", \"9\", \"\\\\\", \"/\", \"-\"]\n",
    "\n",
    "data_list, img_list = segmentation(image)\n",
    "image_num = 0\n",
    "for sub_img in img_list:\n",
    "    for locate in data_list[image_num]:\n",
    "        crop = sub_img[locate[1]: locate[3], locate[0]: locate[2]]\n",
    "        resized = cv2.resize(crop, (224, 224))\n",
    "        img = np.expand_dims(resized, axis=0)\n",
    "        cls = model.predict_classes(img)\n",
    "        result_text += (code[cls[0]])\n",
    "        print(code[cls[0]], endl=\" \")\n",
    "        cv2.imshow(\"Frame\", resized)\n",
    "        cv2.waitKey()\n",
    "        cv2.destroyAllWindows()\n",
    "    image_num += 1\n",
    "print(result_test)"
   ]
  },
  {
   "cell_type": "code",
   "execution_count": null,
   "metadata": {},
   "outputs": [],
   "source": []
  }
 ],
 "metadata": {
  "kernelspec": {
   "display_name": "Python 3",
   "language": "python",
   "name": "python3"
  },
  "language_info": {
   "codemirror_mode": {
    "name": "ipython",
    "version": 3
   },
   "file_extension": ".py",
   "mimetype": "text/x-python",
   "name": "python",
   "nbconvert_exporter": "python",
   "pygments_lexer": "ipython3",
   "version": "3.6.5"
  }
 },
 "nbformat": 4,
 "nbformat_minor": 1
}
